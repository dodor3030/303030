{
  "nbformat": 4,
  "nbformat_minor": 0,
  "metadata": {
    "colab": {
      "provenance": [],
      "authorship_tag": "ABX9TyMX1P3Ef3LYLtcST3QrHD0k",
      "include_colab_link": true
    },
    "kernelspec": {
      "name": "python3",
      "display_name": "Python 3"
    },
    "language_info": {
      "name": "python"
    }
  },
  "cells": [
    {
      "cell_type": "markdown",
      "metadata": {
        "id": "view-in-github",
        "colab_type": "text"
      },
      "source": [
        "<a href=\"https://colab.research.google.com/github/dodor3030/303030/blob/main/EX02_01_My_Chatbot.ipynb\" target=\"_parent\"><img src=\"https://colab.research.google.com/assets/colab-badge.svg\" alt=\"Open In Colab\"/></a>"
      ]
    },
    {
      "cell_type": "code",
      "execution_count": null,
      "metadata": {
        "colab": {
          "base_uri": "https://localhost:8080/",
          "height": 1000
        },
        "id": "c5Tp3dFZCm1p",
        "outputId": "3e3e5b3d-7497-4905-863e-1a4236399091"
      },
      "outputs": [
        {
          "output_type": "stream",
          "name": "stdout",
          "text": [
            "You:HI\n",
            "Bot:\n"
          ]
        },
        {
          "output_type": "display_data",
          "data": {
            "text/plain": [
              "<IPython.core.display.Markdown object>"
            ],
            "text/markdown": "Hi there! How can I help you today?\n"
          },
          "metadata": {}
        },
        {
          "output_type": "stream",
          "name": "stdout",
          "text": [
            "You:how ai works?\n",
            "Bot:\n"
          ]
        },
        {
          "output_type": "display_data",
          "data": {
            "text/plain": [
              "<IPython.core.display.Markdown object>"
            ],
            "text/markdown": "Okay, let's break down how AI works. It's a broad field, so I'll give you a simplified overview. Think of AI as a combination of different concepts and techniques working together to make machines \"think\" or act intelligently. Here's a general breakdown:\n\n**1. Core Idea: Mimicking Intelligence**\n\n*   At its heart, AI aims to create machines that can perform tasks that typically require human intelligence. This includes things like:\n    *   Learning\n    *   Problem-solving\n    *   Reasoning\n    *   Perception (seeing, hearing, understanding language)\n    *   Decision-making\n\n**2. Data is Key:**\n\n*   AI systems learn from **data**. The more data they have, the better they can learn and perform.  This data can be anything: images, text, numbers, sounds, etc.\n*   The quality of the data is also crucial.  \"Garbage in, garbage out\" is a common saying – if the data is biased, incomplete, or inaccurate, the AI's performance will suffer.\n\n**3. Algorithms and Models:**\n\n*   **Algorithms** are sets of instructions that tell the computer how to process the data and learn from it.  Think of them like recipes.\n*   **Models** are the result of training an algorithm on data. They represent the learned relationships and patterns within the data.  Once trained, a model can be used to make predictions or decisions on new, unseen data.\n\n**4. Machine Learning (ML): The Most Common Approach**\n\n*   Machine learning is a major subfield of AI.  Instead of explicitly programming a computer to do something, you *train* it using data.  There are several types of machine learning:\n\n    *   **Supervised Learning:**\n        *   You provide the algorithm with labeled data, meaning the data has \"answers\" associated with it.  For example, you might show it thousands of images of cats and dogs, each labeled as \"cat\" or \"dog.\"\n        *   The algorithm learns to map the input (the image) to the output (the label).\n        *   After training, it can classify new, unseen images as either \"cat\" or \"dog.\"\n        *   Examples: image classification, spam detection, predicting house prices.\n\n    *   **Unsupervised Learning:**\n        *   You provide the algorithm with unlabeled data.\n        *   The algorithm tries to find patterns, structures, and relationships within the data on its own.\n        *   Examples:  customer segmentation, anomaly detection, dimensionality reduction.\n\n    *   **Reinforcement Learning:**\n        *   The algorithm learns by trial and error in an environment.\n        *   It receives rewards or penalties for its actions and learns to maximize its rewards over time.\n        *   Examples: training game-playing agents (like AlphaGo), robotics, optimizing advertising campaigns.\n\n    *   **Deep Learning:**\n        *   A subfield of machine learning that uses artificial neural networks with many layers (hence \"deep\").\n        *   These networks can learn very complex patterns from large amounts of data.\n        *   Deep learning is behind many of the recent advances in AI, such as image recognition, natural language processing, and speech recognition.\n\n**5. Neural Networks (especially for Deep Learning):**\n\n*   Neural networks are inspired by the structure of the human brain.\n*   They consist of interconnected nodes (neurons) organized in layers.\n*   Each connection between neurons has a weight associated with it.\n*   During training, the weights are adjusted to minimize the error between the network's output and the desired output.\n\n**6. Natural Language Processing (NLP): Understanding and Generating Language**\n\n*   NLP focuses on enabling computers to understand, interpret, and generate human language.\n*   Techniques include:\n    *   **Text analysis:**  Understanding the meaning of text.\n    *   **Machine translation:**  Translating text from one language to another.\n    *   **Sentiment analysis:**  Determining the emotional tone of text.\n    *   **Text generation:**  Creating new text.\n\n**7. Computer Vision: Seeing and Understanding Images**\n\n*   Computer vision enables computers to \"see\" and interpret images and videos.\n*   Techniques include:\n    *   **Image recognition:** Identifying objects in images.\n    *   **Object detection:** Locating objects in images.\n    *   **Image segmentation:** Dividing an image into regions.\n\n**8. The AI Pipeline: A Common Workflow**\n\n1.  **Data Collection:** Gathering the necessary data.\n2.  **Data Preprocessing:** Cleaning, transforming, and preparing the data for training.\n3.  **Model Selection:** Choosing the appropriate algorithm and model for the task.\n4.  **Model Training:** Training the model on the data.\n5.  **Model Evaluation:** Assessing the model's performance on a separate dataset (to avoid overfitting).\n6.  **Model Deployment:** Making the model available for use in a real-world application.\n7.  **Monitoring and Maintenance:** Continuously monitoring the model's performance and retraining it as needed.\n\n**Important Considerations:**\n\n*   **Bias:**  AI systems can inherit biases from the data they are trained on, leading to unfair or discriminatory outcomes.\n*   **Explainability:**  Some AI models (especially deep learning models) are difficult to understand, making it hard to know why they make certain decisions. This is a growing area of research.\n*   **Ethics:**  AI raises a number of ethical concerns, such as job displacement, privacy, and autonomous weapons.\n\n**In Summary:**\n\nAI is a complex field that uses data, algorithms, and models to enable computers to perform tasks that typically require human intelligence. Machine learning, especially deep learning, is a dominant approach.\n\nThis is a high-level overview.  Which aspect of AI are you most interested in learning more about? For example, are you curious about:\n\n*   Specific types of machine learning"
          },
          "metadata": {}
        }
      ],
      "source": [
        "from google.colab import userdata\n",
        "import google.generativeai as genai\n",
        "\n",
        "genai.configure(api_key=userdata.get('GOOGLE_API_KEY'))\n",
        "\n",
        "\n",
        "generation_cinfig = {\n",
        "    \"temperature\":1,\n",
        "    \"max_output_tokens\":1280\n",
        "}\n",
        "\n",
        "model = genai.GenerativeModel(\n",
        "    model_name=\"gemini-2.0-flash\",\n",
        "    generation_config=generation_cinfig\n",
        ")\n",
        "\n",
        "from IPython.display import Markdown, display\n",
        "\n",
        "chat = model.start_chat(history=[])\n",
        "\n",
        "while True:\n",
        "  message = input('You:')\n",
        "  if message =='bye!':\n",
        "    break\n",
        "  response = chat.send_message(message)\n",
        "  print('Bot:')\n",
        "  display(Markdown(response.text))"
      ]
    }
  ]
}