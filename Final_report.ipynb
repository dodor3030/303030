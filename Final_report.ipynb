{
  "nbformat": 4,
  "nbformat_minor": 0,
  "metadata": {
    "colab": {
      "provenance": [],
      "authorship_tag": "ABX9TyOqPVaLgDyp9T1b0lv6nFQt",
      "include_colab_link": true
    },
    "kernelspec": {
      "name": "python3",
      "display_name": "Python 3"
    },
    "language_info": {
      "name": "python"
    }
  },
  "cells": [
    {
      "cell_type": "markdown",
      "metadata": {
        "id": "view-in-github",
        "colab_type": "text"
      },
      "source": [
        "<a href=\"https://colab.research.google.com/github/dodor3030/303030/blob/main/Final_report.ipynb\" target=\"_parent\"><img src=\"https://colab.research.google.com/assets/colab-badge.svg\" alt=\"Open In Colab\"/></a>"
      ]
    },
    {
      "cell_type": "code",
      "execution_count": null,
      "metadata": {
        "id": "2Et2IDyc2Jnj"
      },
      "outputs": [],
      "source": [
        "pip install -q gradio"
      ]
    },
    {
      "cell_type": "code",
      "source": [
        "import gradio as gr\n",
        "from google import genai\n",
        "from google.colab import userdata\n",
        "\n",
        "api_key = userdata.get('GOOGLE_API_KEY')\n",
        "client = genai.Client(api_key=api_key)\n",
        "\n",
        "text = '''\n",
        "### 蝴蝶球靠風吹？\n",
        "當然不是。蝴蝶球靠的是邊界層撥離，簡單來說就是當氣流通過一顆 “自旋速度十分緩慢” 的 棒球時，遇到球體上的縫線就會立刻產生邊界層撥離，當撥離現象發生時，會產生球體周圍壓力的不對稱，因此讓棒球在大氣中出現飄移的現象。在地球上，風吹代 表的是大氣壓力差，有大氣壓力差就有風，風只是眾多影響蝴蝶球變化軌跡的原因之一，即使是無風狀態，你仍能想辦法靠著不讓棒球快速旋轉而投出蝴蝶球。\n",
        "(https://www.sportsv.net/articles/312)\n",
        "'''\n",
        "\n",
        "prompt = f'''\n",
        "請你扮演一位國小老師。你的任務是引導學生理解文章內容。目前是進行一對一的指導。不需給老師的指導語。\n",
        "你的教學風格：\n",
        "友善、耐心、鼓勵： 使用簡單易懂的詞語，語氣溫和，多加鼓勵學生。\n",
        "提問引導： 透過一系列的提問，幫助學生思考文章的重點、細節和含義。\n",
        "循序漸進： 從簡單的問題開始，逐步深入，直到學生能完全理解文章內容。\n",
        "確保理解： 在每個問題之後，等待學生的回答，並根據回答判斷學生是否理解。如果學生回答不正確或不完整，請耐心引導他們思考。如果學生未針對問題回答也引導他們聚焦於問題。\n",
        "互動式對話： 不只是提問，也要像聊天一樣，讓學生感到輕鬆自在，願意表達自己的想法。\n",
        "總結確認： 在對話結束前，引導學生總結文章內容，確認他們已經完全理解。\n",
        "你的提問策略：\n",
        "初始提問： 從文章的主要人物、事件、地點等基本資訊開始。\n",
        "細節提問： 針對文章中的關鍵情節、原因、結果等進行提問。\n",
        "推論與感受提問： 鼓勵學生思考文章背後的意義、人物的感受、作者的意圖等。\n",
        "個人連結提問： 讓學生將文章內容與自己的經驗或生活連結，加深理解。\n",
        "對話結束條件：\n",
        "你判斷學生已經完全理解文章的所有重點和含義。\n",
        "學生能夠用自己的話清楚地講述文章內容。\n",
        "文章內容如下：\n",
        "{text}\n",
        "'''\n",
        "\n",
        "# 初始化 chat 並回傳開場訊息\n",
        "def init_chat():\n",
        "    chat = client.chats.create(model=\"gemini-2.0-flash\")\n",
        "    init_response = chat.send_message(prompt)\n",
        "    return chat, [{\"role\": \"assistant\", \"content\": init_response.text}]\n",
        "\n",
        "# 回應訊息的邏輯\n",
        "def respond(message, history, chat):\n",
        "    response = chat.send_message(message)\n",
        "    history.append({\"role\": \"user\", \"content\": message})\n",
        "    history.append({\"role\": \"assistant\", \"content\": response.text})\n",
        "    return history, chat, \"\"\n",
        "\n",
        "with gr.Blocks() as app:\n",
        "    state = gr.State()  # 儲存 chat 對象\n",
        "    with gr.Row():\n",
        "        with gr.Column(scale=1):  # 左側：文章\n",
        "            gr.Markdown(\"## 文章內容\")\n",
        "            gr.Markdown(text)\n",
        "        with gr.Column(scale=2):  # 右側：對話介面\n",
        "            chatbot = gr.Chatbot(label=\"科學閱讀機器人\",type=\"messages\")\n",
        "            msg = gr.Textbox(label=\"輸入你的回覆\")\n",
        "\n",
        "    def start():\n",
        "        chat, init_messages = init_chat()\n",
        "        return chat, init_messages\n",
        "\n",
        "    # 初始化\n",
        "    app.load(start, outputs=[state, chatbot])\n",
        "\n",
        "    # 傳送訊息\n",
        "    msg.submit(fn=respond, inputs=[msg, chatbot, state], outputs=[chatbot, state, msg])\n",
        "\n",
        "app.launch()\n"
      ],
      "metadata": {
        "colab": {
          "base_uri": "https://localhost:8080/",
          "height": 646
        },
        "id": "ppwc_uct24hK",
        "outputId": "1b42ef68-30ba-4ea8-fe79-d6a869755c3e"
      },
      "execution_count": 3,
      "outputs": [
        {
          "output_type": "stream",
          "name": "stdout",
          "text": [
            "It looks like you are running Gradio on a hosted a Jupyter notebook. For the Gradio app to work, sharing must be enabled. Automatically setting `share=True` (you can turn this off by setting `share=False` in `launch()` explicitly).\n",
            "\n",
            "Colab notebook detected. To show errors in colab notebook, set debug=True in launch()\n",
            "* Running on public URL: https://455255a33e532c6093.gradio.live\n",
            "\n",
            "This share link expires in 1 week. For free permanent hosting and GPU upgrades, run `gradio deploy` from the terminal in the working directory to deploy to Hugging Face Spaces (https://huggingface.co/spaces)\n"
          ]
        },
        {
          "output_type": "display_data",
          "data": {
            "text/plain": [
              "<IPython.core.display.HTML object>"
            ],
            "text/html": [
              "<div><iframe src=\"https://455255a33e532c6093.gradio.live\" width=\"100%\" height=\"500\" allow=\"autoplay; camera; microphone; clipboard-read; clipboard-write;\" frameborder=\"0\" allowfullscreen></iframe></div>"
            ]
          },
          "metadata": {}
        },
        {
          "output_type": "execute_result",
          "data": {
            "text/plain": []
          },
          "metadata": {},
          "execution_count": 3
        }
      ]
    }
  ]
}