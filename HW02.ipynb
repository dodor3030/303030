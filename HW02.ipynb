{
  "nbformat": 4,
  "nbformat_minor": 0,
  "metadata": {
    "colab": {
      "provenance": [],
      "authorship_tag": "ABX9TyOZrrHoQocEeqUVl9Wwpn2O",
      "include_colab_link": true
    },
    "kernelspec": {
      "name": "python3",
      "display_name": "Python 3"
    },
    "language_info": {
      "name": "python"
    }
  },
  "cells": [
    {
      "cell_type": "markdown",
      "metadata": {
        "id": "view-in-github",
        "colab_type": "text"
      },
      "source": [
        "<a href=\"https://colab.research.google.com/github/dodor3030/303030/blob/main/HW02.ipynb\" target=\"_parent\"><img src=\"https://colab.research.google.com/assets/colab-badge.svg\" alt=\"Open In Colab\"/></a>"
      ]
    },
    {
      "cell_type": "markdown",
      "source": [
        "# HW02 Web Clawler"
      ],
      "metadata": {
        "id": "7XtwCRCqY3sG"
      }
    },
    {
      "cell_type": "markdown",
      "source": [
        "## 題目"
      ],
      "metadata": {
        "id": "CtYGuMsKY5yf"
      }
    },
    {
      "cell_type": "markdown",
      "source": [
        "2025美國職棒MLB數據分析"
      ],
      "metadata": {
        "id": "Z4OEVROke8X7"
      }
    },
    {
      "cell_type": "markdown",
      "source": [
        "## 摘要"
      ],
      "metadata": {
        "id": "rUqibN-QZEg3"
      }
    },
    {
      "cell_type": "markdown",
      "source": [
        "本報告旨在透過網路爬蟲技術，收集美國職棒MLB網站上2025例行賽的相關資料，為球迷提供參考。"
      ],
      "metadata": {
        "id": "TDMQ34XDZGPo"
      }
    },
    {
      "cell_type": "markdown",
      "source": [
        "## 引言"
      ],
      "metadata": {
        "id": "kiS9GzBnZhJQ"
      }
    },
    {
      "cell_type": "markdown",
      "source": [
        "近幾年棒球運動逐漸走向科學、數據化，球迷們不只喜歡觀賞精彩刺激的比賽，同時也喜歡談論球員們的數據表現，的網站中有著球員們生涯的所有比賽紀錄，本次爬蟲的目標是獲取\n",
        "美國職棒MLB網站上2025例行賽打擊率前十名的相關資料，並附上其隊伍、上壘率、長打率、整體攻擊指數等資訊，位球迷提供更好的觀賽品質。"
      ],
      "metadata": {
        "id": "GtXSXwK0ZjBJ"
      }
    },
    {
      "cell_type": "markdown",
      "source": [
        "## 方法"
      ],
      "metadata": {
        "id": "H6aKZNMdayiy"
      }
    },
    {
      "cell_type": "markdown",
      "source": [
        "- 目標網站描述\n",
        "  - 目標網站:美國職棒MLB網站\n",
        "    https://www.mlb.com/stats/batting-average\n",
        "  - 頁面結構:包含球員隊伍、上壘率、長打率、整體攻擊指數等資訊\n",
        "\n",
        "- 工具與技術\n",
        "  - 使用 Python 的 `requests` 庫發送 HTTP 請求。\n",
        "  - 使用 `BeautifulSoup` 解析 HTML。\n",
        "\n"
      ],
      "metadata": {
        "id": "I9C8y5t0a1YZ"
      }
    },
    {
      "cell_type": "code",
      "source": [
        "!pip install requests beautifulsoup4 --upgrade\n",
        "import requests\n",
        "from bs4 import BeautifulSoup\n",
        "url = \"https://www.mlb.com/stats/batting-average\"  # MLB Stats 網址\n",
        "response = requests.get(url)\n",
        "soup = BeautifulSoup(response.content, \"html.parser\")\n",
        "\n",
        "# 找到包含球員數據的表格\n",
        "table = soup.find(\"table\", {\"class\": \"bui-table\"})\n",
        "\n",
        "\n",
        "# 提取前 10 名球員的數據\n",
        "top_10_players = []\n",
        "for row in table.find_all(\"tr\")[1:11]:  # 迭代表格中的每一列，跳過標題列\n",
        "    columns = row.find_all(\"td\")\n",
        "    # Check if row has enough columns before accessing elements\n",
        "    team = columns[0].text.strip()   # 球員姓名\n",
        "    avg = columns[-4].text.strip()  # 打擊率\n",
        "    obp = columns[-3].text.strip()  # 上壘率\n",
        "    slg = columns[-2].text.strip()  # 長打率\n",
        "    ops = columns[-1].text.strip()  # 整體攻擊指數\n",
        "    top_10_players.append([team, avg, obp, slg, ops])\n",
        "\n",
        "# 印出前 10 名球員的數據\n",
        "print(\"2024 年 MLB 打擊率前 10 名球員：\")\n",
        "for player in top_10_players:\n",
        "    print(f\"{player[0]}: 打擊率 {player[1]}, 上壘率 {player[2]}, 長打率 {player[3]}, 整體攻擊指數 {player[4]}\")"
      ],
      "metadata": {
        "colab": {
          "base_uri": "https://localhost:8080/"
        },
        "id": "hxZX5TheAGpj",
        "outputId": "3f506f44-ae6b-4163-ad8a-ee27675b8586"
      },
      "execution_count": 3,
      "outputs": [
        {
          "output_type": "stream",
          "name": "stdout",
          "text": [
            "Requirement already satisfied: requests in /usr/local/lib/python3.11/dist-packages (2.32.3)\n",
            "Requirement already satisfied: beautifulsoup4 in /usr/local/lib/python3.11/dist-packages (4.13.4)\n",
            "Requirement already satisfied: charset-normalizer<4,>=2 in /usr/local/lib/python3.11/dist-packages (from requests) (3.4.2)\n",
            "Requirement already satisfied: idna<4,>=2.5 in /usr/local/lib/python3.11/dist-packages (from requests) (3.10)\n",
            "Requirement already satisfied: urllib3<3,>=1.21.1 in /usr/local/lib/python3.11/dist-packages (from requests) (2.4.0)\n",
            "Requirement already satisfied: certifi>=2017.4.17 in /usr/local/lib/python3.11/dist-packages (from requests) (2025.4.26)\n",
            "Requirement already satisfied: soupsieve>1.2 in /usr/local/lib/python3.11/dist-packages (from beautifulsoup4) (2.7)\n",
            "Requirement already satisfied: typing-extensions>=4.0.0 in /usr/local/lib/python3.11/dist-packages (from beautifulsoup4) (4.13.2)\n",
            "2024 年 MLB 打擊率前 10 名球員：\n",
            "NYY: 打擊率 .412, 上壘率 .497, 長打率 .782, 整體攻擊指數 1.279\n",
            "LAD: 打擊率 .362, 上壘率 .430, 長打率 .698, 整體攻擊指數 1.128\n",
            "ATH: 打擊率 .354, 上壘率 .380, 長打率 .500, 整體攻擊指數 .880\n",
            "NYY: 打擊率 .346, 上壘率 .395, 長打率 .506, 整體攻擊指數 .901\n",
            "SD: 打擊率 .340, 上壘率 .410, 長打率 .490, 整體攻擊指數 .900\n",
            "TB: 打擊率 .339, 上壘率 .430, 長打率 .562, 整體攻擊指數 .992\n",
            "CLE: 打擊率 .325, 上壘率 .384, 長打率 .450, 整體攻擊指數 .834\n",
            "LAD: 打擊率 .324, 上壘率 .435, 長打率 .477, 整體攻擊指數 .912\n",
            "LAD: 打擊率 .315, 上壘率 .333, 長打率 .600, 整體攻擊指數 .933\n",
            "HOU: 打擊率 .315, 上壘率 .365, 長打率 .475, 整體攻擊指數 .840\n"
          ]
        }
      ]
    },
    {
      "cell_type": "markdown",
      "source": [
        "## 結果"
      ],
      "metadata": {
        "id": "nOB5rD38A4eA"
      }
    },
    {
      "cell_type": "markdown",
      "source": [
        "- 數據存儲方式\n",
        " - 將數據存儲為CSV格式，方便後續分析\n",
        ""
      ],
      "metadata": {
        "id": "6IBCb5vyBATU"
      }
    },
    {
      "cell_type": "code",
      "source": [
        "import csv\n",
        "with open(\"mlb_top10_batting_2024.csv\", \"w\", newline=\"\", encoding=\"utf-8\") as f:\n",
        "        writer = csv.writer(f)\n",
        "        writer.writerow([\"球員名稱\", \"打擊率\", \"上壘率\", \"長打率\", \"OPS\"])  # 標題列\n",
        "        writer.writerows(top_10_players)"
      ],
      "metadata": {
        "id": "-UG6kqurBt19"
      },
      "execution_count": 4,
      "outputs": []
    },
    {
      "cell_type": "markdown",
      "source": [
        "## 問題與挑戰"
      ],
      "metadata": {
        "id": "7scZfvOKB_ae"
      }
    },
    {
      "cell_type": "markdown",
      "source": [
        "- 技術挑戰\n",
        " - 不知道為甚麼無法取得球員名字\n",
        "\n",
        "- 資料限制\n",
        " - 原本想收集中華職棒球員資訊，但中職官網有預防爬蟲，因此無法取得資料\n",
        ""
      ],
      "metadata": {
        "id": "9gPM7_eTCEsf"
      }
    },
    {
      "cell_type": "markdown",
      "source": [
        "## 結論"
      ],
      "metadata": {
        "id": "adUuqGfHCtmw"
      }
    },
    {
      "cell_type": "markdown",
      "source": [
        "- 成功獲取並分析了MLB美國職棒目前打擊率前十名的球員分屬的隊伍、上壘率、長打率、整體攻擊指數等資訊\n",
        "- 希望未來能成功分析更多職棒聯盟，進行跨聯盟的分析比較，讓看職棒更多樂趣\n",
        "\n"
      ],
      "metadata": {
        "id": "EKfi2-7BCxA0"
      }
    },
    {
      "cell_type": "markdown",
      "source": [
        "## 參考文獻"
      ],
      "metadata": {
        "id": "nPSUUAxoDYHE"
      }
    },
    {
      "cell_type": "markdown",
      "source": [
        "* [MLB美國職棒](https://www.mlb.com/)"
      ],
      "metadata": {
        "id": "4T-APpboDbG6"
      }
    }
  ]
}