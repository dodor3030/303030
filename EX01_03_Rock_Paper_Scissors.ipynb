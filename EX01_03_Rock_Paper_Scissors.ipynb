{
  "nbformat": 4,
  "nbformat_minor": 0,
  "metadata": {
    "colab": {
      "provenance": [],
      "authorship_tag": "ABX9TyNuITX8//sg937w2XWyzuz2",
      "include_colab_link": true
    },
    "kernelspec": {
      "name": "python3",
      "display_name": "Python 3"
    },
    "language_info": {
      "name": "python"
    }
  },
  "cells": [
    {
      "cell_type": "markdown",
      "metadata": {
        "id": "view-in-github",
        "colab_type": "text"
      },
      "source": [
        "<a href=\"https://colab.research.google.com/github/dodor3030/303030/blob/main/EX01_03_Rock_Paper_Scissors.ipynb\" target=\"_parent\"><img src=\"https://colab.research.google.com/assets/colab-badge.svg\" alt=\"Open In Colab\"/></a>"
      ]
    },
    {
      "cell_type": "code",
      "execution_count": null,
      "metadata": {
        "colab": {
          "base_uri": "https://localhost:8080/"
        },
        "id": "oiabAzgBRtGz",
        "outputId": "9fc3d4b8-09d8-449b-b970-9efbd2052b2a"
      },
      "outputs": [
        {
          "output_type": "stream",
          "name": "stdout",
          "text": [
            "2\n",
            "computer; 2\n",
            "Draw\n"
          ]
        }
      ],
      "source": [
        "import random\n",
        "player = int(input( ))\n",
        "com = random.choice([0,2,5])\n",
        "print('computer;',com)\n",
        "\n",
        "if player==com:\n",
        "  print('Draw')\n",
        "elif (player==0 and com==2) or (player==2 and com==5) or (player==5 and com==0):\n",
        "  print('You win')\n",
        "else:\n",
        "  print('You lose')"
      ]
    }
  ]
}