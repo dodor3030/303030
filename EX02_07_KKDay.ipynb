{
  "nbformat": 4,
  "nbformat_minor": 0,
  "metadata": {
    "colab": {
      "provenance": [],
      "authorship_tag": "ABX9TyOKPNmoayA6YMeNZrki4Q0q",
      "include_colab_link": true
    },
    "kernelspec": {
      "name": "python3",
      "display_name": "Python 3"
    },
    "language_info": {
      "name": "python"
    }
  },
  "cells": [
    {
      "cell_type": "markdown",
      "metadata": {
        "id": "view-in-github",
        "colab_type": "text"
      },
      "source": [
        "<a href=\"https://colab.research.google.com/github/dodor3030/303030/blob/main/EX02_07_KKDay.ipynb\" target=\"_parent\"><img src=\"https://colab.research.google.com/assets/colab-badge.svg\" alt=\"Open In Colab\"/></a>"
      ]
    },
    {
      "cell_type": "code",
      "source": [
        "import requests\n",
        "url='https://www.kkday.com/zh-tw/destination_api/ajax_get_destination_top_products?destination=D-JP-3261'\n",
        "headers={'user-agent':'Mozilla/5.0 (Windows NT 10.0; Win64; x64) AppleWebKit/537.36 (KHTML, like Gecko) Chrome/1'}\n",
        "res=requests.get(url,headers=headers)\n",
        "hotels=res.json()\n",
        "hotels['data'][0]"
      ],
      "metadata": {
        "colab": {
          "base_uri": "https://localhost:8080/"
        },
        "id": "BI-FrEFbZD1A",
        "outputId": "c09c7086-2d4d-4f62-9d91-60988d72a1bb"
      },
      "execution_count": 39,
      "outputs": [
        {
          "output_type": "execute_result",
          "data": {
            "text/plain": [
              "{'prod_mid': 133300,\n",
              " 'prod_oid': 133300,\n",
              " 'name': '澀谷SHIBUYA SKY展望台門票|即買即用',\n",
              " 'introduction': '東京澀谷人氣景點SHIBUYA SKY展望台,讓你從229 公尺處高空360度無死角俯瞰東京美景,現於KKday下訂SHIBUYA SKY展望台門票,到現場出示QRcode即可於指定時段快速入場,享受從澀谷sky俯瞰東京美景的浪漫!',\n",
              " 'rating_count': 13019,\n",
              " 'rating_star': 4.71,\n",
              " 'show_order_count': '200K+',\n",
              " 'earliest_sale_date': '20250409',\n",
              " 'sale_status': 1,\n",
              " 'purchase_type': None,\n",
              " 'purchase_date': None,\n",
              " 'is_tourism_product': True,\n",
              " 'readable_url': 'shibuya-sky-observatory-e-ticket-tokyo',\n",
              " 'product_category': {'main': 'CATEGORY_002', 'sub': []},\n",
              " 'display_tags': ['立即確認'],\n",
              " 'img_url_list': ['https://image.kkday.com/image/get/w_600%2Cc_fit/s1.kkday.com/product_133300/20220915065553_dvR7F/jpg',\n",
              "  'https://image.kkday.com/image/get/w_600%2Cc_fit/s1.kkday.com/product_133300/20220915065552_qbjbV/jpg',\n",
              "  'https://image.kkday.com/image/get/w_600%2Cc_fit/s1.kkday.com/product_133300/20220915065552_O6JcT/jpg',\n",
              "  'https://image.kkday.com/image/get/w_600%2Cc_fit/s1.kkday.com/product_133300/20220923072327_PlGvK/jpg',\n",
              "  'https://image.kkday.com/image/get/w_600%2Cc_fit/s1.kkday.com/product_133300/20220915065554_via3M/jpg'],\n",
              " 'currency': 'TWD',\n",
              " 'official_price': 606,\n",
              " 'max_price': 763,\n",
              " 'min_price': 606,\n",
              " 'discount': 0,\n",
              " 'is_display_price': False,\n",
              " 'destinations': [{'code': 'D-JP-3654', 'name': '澀谷'},\n",
              "  {'code': 'D-JP-3261', 'name': '東京'},\n",
              "  {'code': 'D-JP-3218', 'name': '關東'},\n",
              "  {'code': 'D-JP-112', 'name': '日本'}],\n",
              " 'is_marketplace': False,\n",
              " 'supplier_oid_list': [7008],\n",
              " 'supplier_name': None,\n",
              " 'supplier_logo': None,\n",
              " 'supplier_badge': 0,\n",
              " 'is_zero_price': False,\n",
              " 'is_kkday_best_route': False}"
            ]
          },
          "metadata": {},
          "execution_count": 39
        }
      ]
    },
    {
      "cell_type": "code",
      "source": [
        "from IPython.display import Image,display\n",
        "\n",
        "for hotel in hotels['data']:\n",
        "    print(hotel['name'],hotel['rating_star'],hotel['official_price'])\n",
        "    print(hotel['introduction'])\n",
        "    display(Image(url=hotel['img_url_list'][0],width=300))\n",
        "    print('-'*3)\n",
        "    print()"
      ],
      "metadata": {
        "colab": {
          "base_uri": "https://localhost:8080/",
          "height": 1000
        },
        "id": "P84eTiIpUjQ1",
        "outputId": "619e7f2f-713a-4aac-faf9-6288f2e84d74"
      },
      "execution_count": 37,
      "outputs": [
        {
          "output_type": "stream",
          "name": "stdout",
          "text": [
            "澀谷SHIBUYA SKY展望台門票|即買即用 4.71 606\n",
            "東京澀谷人氣景點SHIBUYA SKY展望台,讓你從229 公尺處高空360度無死角俯瞰東京美景,現於KKday下訂SHIBUYA SKY展望台門票,到現場出示QRcode即可於指定時段快速入場,享受從澀谷sky俯瞰東京美景的浪漫!\n"
          ]
        },
        {
          "output_type": "display_data",
          "data": {
            "text/html": [
              "<img src=\"https://image.kkday.com/image/get/w_600%2Cc_fit/s1.kkday.com/product_133300/20220915065553_dvR7F/jpg\" width=\"300\"/>"
            ],
            "text/plain": [
              "<IPython.core.display.Image object>"
            ]
          },
          "metadata": {}
        },
        {
          "output_type": "stream",
          "name": "stdout",
          "text": [
            "---\n",
            "\n",
            "Skyliner京成電鐵車票 4.87 577\n",
            "Skyliner京成電鐵一班車直達東京市區與成田機場,全程不需換車且座位寬敞舒適。現於KKday下訂Skyliner京成電鐵車票,無須指定起迄站隨時可劃位上車!\n"
          ]
        },
        {
          "output_type": "display_data",
          "data": {
            "text/html": [
              "<img src=\"https://image.kkday.com/image/get/w_600%2Cc_fit/s1.kkday.com/product_18566/20180430104240_XHgkl/jpg\" width=\"300\"/>"
            ],
            "text/plain": [
              "<IPython.core.display.Image object>"
            ]
          },
          "metadata": {}
        },
        {
          "output_type": "stream",
          "name": "stdout",
          "text": [
            "---\n",
            "\n",
            "東京迪士尼度假區門票 Tokyo Disney Resort 4.81 1764\n",
            "一票暢玩東京迪士尼樂園與東京迪士尼海洋,帶你走進迪士尼卡通的夢幻世界!現於KKday下訂日本東京迪士尼度假區門票,出示 QR code免受入園管制輕鬆入場!\n"
          ]
        },
        {
          "output_type": "display_data",
          "data": {
            "text/html": [
              "<img src=\"https://image.kkday.com/image/get/w_600%2Cc_fit/s1.kkday.com/product_32488/20220706120224_fLhdh/jpg\" width=\"300\"/>"
            ],
            "text/plain": [
              "<IPython.core.display.Image object>"
            ]
          },
          "metadata": {}
        },
        {
          "output_type": "stream",
          "name": "stdout",
          "text": [
            "---\n",
            "\n",
            "東京地鐵三日券/二日券/一日券 Tokyo Subway Ticket 4.81 181\n",
            "東京地鐵三日券/二日券/一日券可於指定內無限次搭乘東京Metro地鐵與都營地下鐵全線,現於KKday下訂日本東京地鐵乘車券,可任選72/48/24小時方案,輕鬆以經濟實惠的車票價格玩遍東京,享受日本東京魅力!\n"
          ]
        },
        {
          "output_type": "display_data",
          "data": {
            "text/html": [
              "<img src=\"https://image.kkday.com/image/get/w_600%2Cc_fit/s1.kkday.com/product_18565/20171213024302_WDF7g/jpg\" width=\"300\"/>"
            ],
            "text/plain": [
              "<IPython.core.display.Image object>"
            ]
          },
          "metadata": {}
        },
        {
          "output_type": "stream",
          "name": "stdout",
          "text": [
            "---\n",
            "\n",
            "京成電鐵Skyliner套票 4.81 630\n",
            "Skyliner套票包含Skyliner京成電鐵票&東京地鐵券,不僅可以快速往返成田機場與東京市區,還能在有效期間內任意搭乘東京Metro和都營地下鐵全線,現於KKday下訂Skyliner套票,輕鬆省下交通開銷,暢玩東京景點!\n"
          ]
        },
        {
          "output_type": "display_data",
          "data": {
            "text/html": [
              "<img src=\"https://image.kkday.com/image/get/w_600%2Cc_fit/s1.kkday.com/product_25780/20230112062059_fZmC5/jpg\" width=\"300\"/>"
            ],
            "text/plain": [
              "<IPython.core.display.Image object>"
            ]
          },
          "metadata": {}
        },
        {
          "output_type": "stream",
          "name": "stdout",
          "text": [
            "---\n",
            "\n",
            "日本成田機場(NRT)・羽田機場(HND)機場專車接送 |機場 ⮂東京23區內及各大景點/東京迪士尼度假區/近郊地區(橫濱/箱根/河口湖/輕井澤/伊豆/長野縣/水戶) 4.63 561\n",
            "在 KKday 輕鬆預訂東京成田機場或羽田機場專車接送服務,替你省下等待大眾交通工具及轉乘的時間精力。無論是直達入住的飯店或是機場、三麗鷗彩虹樂園 / 三鷹之森吉卜力美術館 / 東京迪士尼度假區還是各近郊地區,讓你不用提著大包小包行李轉乘, 解決拖帶大型行李轉乘的不便,專車接送無需與他人共乘,提供最舒適安心的接送服務。-玩東京必買-\n"
          ]
        },
        {
          "output_type": "display_data",
          "data": {
            "text/html": [
              "<img src=\"https://image.kkday.com/image/get/w_600%2Cc_fit/s1.kkday.com/product_174325/20240516024502_wU9s3/jpg\" width=\"300\"/>"
            ],
            "text/plain": [
              "<IPython.core.display.Image object>"
            ]
          },
          "metadata": {}
        },
        {
          "output_type": "stream",
          "name": "stdout",
          "text": [
            "---\n",
            "\n",
            "東京哈利波特影城門票 4.81 1123\n",
            "東京哈利波特影城從地鐵豐島園站下車步行2分鐘即可抵達,不只帶您走進電影中超人氣的霍格華茲大廳、斜角巷、9 3⁄4 月台等知名場景,還有絕無僅有的《哈利波特》、《怪獸與牠們的產地》電影道具、幕後製作秘辛與各種互動式體驗。現於KKday下訂東京哈利波特影城門票,出示電子憑證後即可直接入場!\n"
          ]
        },
        {
          "output_type": "display_data",
          "data": {
            "text/html": [
              "<img src=\"https://image.kkday.com/image/get/w_600%2Cc_fit/s1.kkday.com/product_144383/20230802085219_igCRN/jpg\" width=\"300\"/>"
            ],
            "text/plain": [
              "<IPython.core.display.Image object>"
            ]
          },
          "metadata": {}
        },
        {
          "output_type": "stream",
          "name": "stdout",
          "text": [
            "---\n",
            "\n",
            "東京豐洲新型態美術館門票 teamLab Planets TOKYO 4.78 898\n",
            "東京豐洲teamLab Planets TOKYO是一間日本新型態型美術館,展覽主要分為 5 種空間、8 個作品,東京豐洲新型態美術館每個空間都以「身臨其境 / Body Immersive 」為概念設計成超巨大的身體沉浸式作品群,現於KKday下訂東京teamLab Planets TOKYO門票,出示 QR code即可輕鬆參觀。\n"
          ]
        },
        {
          "output_type": "display_data",
          "data": {
            "text/html": [
              "<img src=\"https://image.kkday.com/image/get/w_600%2Cc_fit/s1.kkday.com/product_22396/20210630091546_4V2Zz/jpg\" width=\"300\"/>"
            ],
            "text/plain": [
              "<IPython.core.display.Image object>"
            ]
          },
          "metadata": {}
        },
        {
          "output_type": "stream",
          "name": "stdout",
          "text": [
            "---\n",
            "\n",
            "富士山網紅打卡景點一日遊|新倉山淺間公園・天梯小鎮・時計街・忍野八海・河口湖大石公園・羅森便利店|贈送美味草餅 4.81 1965\n",
            "來KKday 預定富士山一日遊,我們將前往新倉山淺間公園,從經典角度眺望富士山,拍攝美照;帶您領略大石公園的浪漫花海,如夢如幻,還能捕捉到和富士山同框的美麗瞬間;而天梯小鎮-日川時計街更是讓您有富士山的美麗瞬間海,不僅可以看到湧泉水的奇妙自然景觀,更會贈送大家美味軟糯的草餅;河口湖周邊羅森便利店打卡拍攝點,讓您拍到特色的富士山合影。\n"
          ]
        },
        {
          "output_type": "display_data",
          "data": {
            "text/html": [
              "<img src=\"https://image.kkday.com/image/get/w_600%2Cc_fit/s1.kkday.com/product_184519/20250319073920_7RMee/jpg\" width=\"300\"/>"
            ],
            "text/plain": [
              "<IPython.core.display.Image object>"
            ]
          },
          "metadata": {}
        },
        {
          "output_type": "stream",
          "name": "stdout",
          "text": [
            "---\n",
            "\n",
            "東京晴空塔門票 4.72 472\n",
            "東京晴空塔(東京天空樹)是東京人氣景點,也是俯瞰東京街景與夜景的最佳選擇。現於KKday下訂東京晴空塔門票,享有比官網還優惠的價格。\n"
          ]
        },
        {
          "output_type": "display_data",
          "data": {
            "text/html": [
              "<img src=\"https://image.kkday.com/image/get/w_600%2Cc_fit/s1.kkday.com/product_38352/20250326012812_yKAAb/jpg\" width=\"300\"/>"
            ],
            "text/plain": [
              "<IPython.core.display.Image object>"
            ]
          },
          "metadata": {}
        },
        {
          "output_type": "stream",
          "name": "stdout",
          "text": [
            "---\n",
            "\n"
          ]
        }
      ]
    }
  ]
}