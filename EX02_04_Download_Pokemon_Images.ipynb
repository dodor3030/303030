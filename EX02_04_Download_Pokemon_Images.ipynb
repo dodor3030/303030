{
  "nbformat": 4,
  "nbformat_minor": 0,
  "metadata": {
    "colab": {
      "provenance": [],
      "authorship_tag": "ABX9TyPHpQyamGOntoqXPj9hleN3",
      "include_colab_link": true
    },
    "kernelspec": {
      "name": "python3",
      "display_name": "Python 3"
    },
    "language_info": {
      "name": "python"
    }
  },
  "cells": [
    {
      "cell_type": "markdown",
      "metadata": {
        "id": "view-in-github",
        "colab_type": "text"
      },
      "source": [
        "<a href=\"https://colab.research.google.com/github/dodor3030/303030/blob/main/EX02_04_Download_Pokemon_Images.ipynb\" target=\"_parent\"><img src=\"https://colab.research.google.com/assets/colab-badge.svg\" alt=\"Open In Colab\"/></a>"
      ]
    },
    {
      "cell_type": "code",
      "execution_count": 11,
      "metadata": {
        "id": "iqo59eMKCX7L"
      },
      "outputs": [],
      "source": [
        "import requests\n",
        "\n",
        "url = 'https://tw.portal-pokemon.com/play/pokedex/0001'\n",
        "\n",
        "response = requests.get(url)\n",
        "response.text\n",
        "\n",
        "from bs4 import BeautifulSoup\n",
        "soup = BeautifulSoup(response.text, 'lxml')\n",
        "soup.find('img',class_='pokemon-img__front').get('src')\n",
        "\n",
        "img_url = 'http://tw.portal-pokemon.com'+soup.find('img',class_='pokemon-img__front')['src']\n",
        "\n",
        "img = requests.get(img_url)\n",
        "with open('0001.png','wb') as f:\n",
        "    f.write(img.content)\n",
        "\n",
        "import requests\n",
        "from bs4 import BeautifulSoup\n",
        "\n",
        "for i in range(1,11):\n",
        "  id = f'{i:04}'\n",
        "  url = f'https://tw.portal-pokemon.com/play/pokedex/{id}'\n",
        "  response = requests.get(url)\n",
        "  soup = BeautifulSoup(response.text, 'lxml')\n",
        "  img_src = soup.find('img',class_='pokemon-img__front')['src']\n",
        "  img_url = 'http://tw.portal-pokemon.com'+img_src\n",
        "  img = requests.get(img_url)\n",
        "  with open(f'{id}.png','wb') as f:\n",
        "    f.write(img.content)"
      ]
    }
  ]
}