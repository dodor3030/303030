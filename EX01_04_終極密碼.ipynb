{
  "nbformat": 4,
  "nbformat_minor": 0,
  "metadata": {
    "colab": {
      "provenance": [],
      "authorship_tag": "ABX9TyN8we/ISohUv36rFpSlsNaZ",
      "include_colab_link": true
    },
    "kernelspec": {
      "name": "python3",
      "display_name": "Python 3"
    },
    "language_info": {
      "name": "python"
    }
  },
  "cells": [
    {
      "cell_type": "markdown",
      "metadata": {
        "id": "view-in-github",
        "colab_type": "text"
      },
      "source": [
        "<a href=\"https://colab.research.google.com/github/dodor3030/303030/blob/main/EX01_04_%E7%B5%82%E6%A5%B5%E5%AF%86%E7%A2%BC.ipynb\" target=\"_parent\"><img src=\"https://colab.research.google.com/assets/colab-badge.svg\" alt=\"Open In Colab\"/></a>"
      ]
    },
    {
      "cell_type": "code",
      "execution_count": 5,
      "metadata": {
        "colab": {
          "base_uri": "https://localhost:8080/"
        },
        "id": "X-ukdB6My1qA",
        "outputId": "643cbd3f-80af-404b-ba4b-c681bf40dd00"
      },
      "outputs": [
        {
          "output_type": "stream",
          "name": "stdout",
          "text": [
            "0 - 100\n",
            "guess50\n",
            "50 - 100\n",
            "guess60\n",
            "50 - 60\n",
            "guess55\n",
            "55 - 60\n",
            "guess59\n",
            "55 - 59\n",
            "guess58\n",
            "55 - 58\n",
            "guess56\n",
            "猜中\n"
          ]
        }
      ],
      "source": [
        "from os import RTLD_DEEPBIND\n",
        "import random\n",
        "bomb = random.randint(1,99)\n",
        "\n",
        "\n",
        "LF = 0\n",
        "RT = 100\n",
        "\n",
        "while True:\n",
        "  print(LF,'-',RT)\n",
        "  GU = int(input('guess'))\n",
        "  if GU <= LF or GU >= RT:\n",
        "    print('超過範圍')\n",
        "  elif GU < bomb:\n",
        "    LF = GU\n",
        "  elif GU > bomb:\n",
        "    RT = GU\n",
        "  else:\n",
        "    print('猜中')\n",
        "    break\n"
      ]
    }
  ]
}