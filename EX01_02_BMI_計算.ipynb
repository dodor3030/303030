{
  "nbformat": 4,
  "nbformat_minor": 0,
  "metadata": {
    "colab": {
      "provenance": [],
      "authorship_tag": "ABX9TyOrRvoiUnrtofcNOYYFa+uV",
      "include_colab_link": true
    },
    "kernelspec": {
      "name": "python3",
      "display_name": "Python 3"
    },
    "language_info": {
      "name": "python"
    }
  },
  "cells": [
    {
      "cell_type": "markdown",
      "metadata": {
        "id": "view-in-github",
        "colab_type": "text"
      },
      "source": [
        "<a href=\"https://colab.research.google.com/github/dodor3030/303030/blob/main/EX01_02_BMI_%E8%A8%88%E7%AE%97.ipynb\" target=\"_parent\"><img src=\"https://colab.research.google.com/assets/colab-badge.svg\" alt=\"Open In Colab\"/></a>"
      ]
    },
    {
      "cell_type": "code",
      "execution_count": 2,
      "metadata": {
        "colab": {
          "base_uri": "https://localhost:8080/"
        },
        "id": "1D5lCxjkK9N3",
        "outputId": "9c2d75cd-6211-4bc3-e090-8559ac139296"
      },
      "outputs": [
        {
          "output_type": "stream",
          "name": "stdout",
          "text": [
            "height(cm);161\n",
            "weight(kg);47\n",
            "BMI: 18.1\n"
          ]
        }
      ],
      "source": [
        "height= float(input('height(cm);'))\n",
        "weight= float(input('weight(kg);'))\n",
        "bmi= weight/(height/100)**2\n",
        "print('BMI:',round(bmi,1))"
      ]
    }
  ]
}